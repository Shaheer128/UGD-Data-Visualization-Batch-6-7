{
 "cells": [
  {
   "cell_type": "code",
   "execution_count": 1,
   "id": "5fc4247a",
   "metadata": {},
   "outputs": [],
   "source": [
    "import numpy as np"
   ]
  },
  {
   "cell_type": "code",
   "execution_count": 2,
   "id": "29adda35",
   "metadata": {},
   "outputs": [],
   "source": [
    "arr=np.arange(30)"
   ]
  },
  {
   "cell_type": "code",
   "execution_count": 3,
   "id": "008b4ae4",
   "metadata": {},
   "outputs": [
    {
     "name": "stdout",
     "output_type": "stream",
     "text": [
      "[ 0  1  2  3  4  5  6  7  8  9 10 11 12 13 14 15 16 17 18 19 20 21 22 23\n",
      " 24 25 26 27 28 29]\n"
     ]
    }
   ],
   "source": [
    "print(arr)"
   ]
  },
  {
   "cell_type": "code",
   "execution_count": 4,
   "id": "926f4790",
   "metadata": {},
   "outputs": [],
   "source": [
    "arr1=arr.reshape(5,6)"
   ]
  },
  {
   "cell_type": "code",
   "execution_count": 5,
   "id": "13428883",
   "metadata": {},
   "outputs": [],
   "source": [
    "arr2=arr.reshape(15,2)"
   ]
  },
  {
   "cell_type": "code",
   "execution_count": 6,
   "id": "312476e0",
   "metadata": {},
   "outputs": [],
   "source": [
    "arr3=arr.reshape(10,3)"
   ]
  },
  {
   "cell_type": "code",
   "execution_count": 7,
   "id": "cf76df77",
   "metadata": {},
   "outputs": [
    {
     "name": "stdout",
     "output_type": "stream",
     "text": [
      "[[ 0  1  2  3  4  5]\n",
      " [ 6  7  8  9 10 11]\n",
      " [12 13 14 15 16 17]\n",
      " [18 19 20 21 22 23]\n",
      " [24 25 26 27 28 29]]\n"
     ]
    }
   ],
   "source": [
    "print(arr1)"
   ]
  },
  {
   "cell_type": "code",
   "execution_count": 42,
   "id": "e668c64a",
   "metadata": {},
   "outputs": [
    {
     "name": "stdout",
     "output_type": "stream",
     "text": [
      "[[ 1  3  5]\n",
      " [13 15 17]\n",
      " [25 27 29]]\n"
     ]
    }
   ],
   "source": [
    "print(arr1[:5:2,1::2])"
   ]
  },
  {
   "cell_type": "code",
   "execution_count": 8,
   "id": "4b49e197",
   "metadata": {},
   "outputs": [
    {
     "name": "stdout",
     "output_type": "stream",
     "text": [
      "[[ 1  2  3  4]\n",
      " [ 7  8  9 10]\n",
      " [13 14 15 16]\n",
      " [19 20 21 22]]\n"
     ]
    }
   ],
   "source": [
    "print(arr1[0:4,1:5])"
   ]
  },
  {
   "cell_type": "code",
   "execution_count": 18,
   "id": "c17f94f4",
   "metadata": {},
   "outputs": [
    {
     "name": "stdout",
     "output_type": "stream",
     "text": [
      "[[ 1  3  5]\n",
      " [ 7  9 11]\n",
      " [13 15 17]\n",
      " [19 21 23]\n",
      " [25 27 29]]\n"
     ]
    }
   ],
   "source": [
    "print(arr1[0:6,1:6:2])"
   ]
  },
  {
   "cell_type": "code",
   "execution_count": 19,
   "id": "f1787a8c",
   "metadata": {},
   "outputs": [
    {
     "name": "stdout",
     "output_type": "stream",
     "text": [
      "[[ 0  2  4]\n",
      " [ 6  8 10]\n",
      " [12 14 16]\n",
      " [18 20 22]\n",
      " [24 26 28]]\n"
     ]
    }
   ],
   "source": [
    "print(arr1[0:6,::2])"
   ]
  },
  {
   "cell_type": "code",
   "execution_count": 21,
   "id": "65952b13",
   "metadata": {},
   "outputs": [
    {
     "name": "stdout",
     "output_type": "stream",
     "text": [
      "[[ 1  3  5]\n",
      " [13 15 17]\n",
      " [25 27 29]]\n"
     ]
    }
   ],
   "source": [
    "print(arr1[0::2,1::2])"
   ]
  },
  {
   "cell_type": "code",
   "execution_count": 22,
   "id": "7e6bc334",
   "metadata": {},
   "outputs": [
    {
     "name": "stdout",
     "output_type": "stream",
     "text": [
      "[[ 1  3  5]\n",
      " [13 15 17]\n",
      " [25 27 29]]\n"
     ]
    }
   ],
   "source": [
    "print(arr1[::2,1::2])"
   ]
  },
  {
   "cell_type": "code",
   "execution_count": 27,
   "id": "2db30366",
   "metadata": {},
   "outputs": [
    {
     "data": {
      "text/plain": [
       "30"
      ]
     },
     "execution_count": 27,
     "metadata": {},
     "output_type": "execute_result"
    }
   ],
   "source": [
    "arr1.size"
   ]
  },
  {
   "cell_type": "code",
   "execution_count": 28,
   "id": "15e8eeec",
   "metadata": {},
   "outputs": [
    {
     "data": {
      "text/plain": [
       "4"
      ]
     },
     "execution_count": 28,
     "metadata": {},
     "output_type": "execute_result"
    }
   ],
   "source": [
    "arr1.itemsize"
   ]
  },
  {
   "cell_type": "code",
   "execution_count": 29,
   "id": "55727f5b",
   "metadata": {},
   "outputs": [
    {
     "data": {
      "text/plain": [
       "2"
      ]
     },
     "execution_count": 29,
     "metadata": {},
     "output_type": "execute_result"
    }
   ],
   "source": [
    "arr1.ndim"
   ]
  },
  {
   "cell_type": "code",
   "execution_count": 37,
   "id": "19f72414",
   "metadata": {},
   "outputs": [
    {
     "name": "stdout",
     "output_type": "stream",
     "text": [
      "0\n",
      "1\n",
      "2\n",
      "3\n",
      "4\n",
      "5\n",
      "6\n",
      "7\n",
      "8\n",
      "9\n",
      "10\n",
      "11\n",
      "12\n",
      "13\n",
      "14\n",
      "15\n",
      "16\n",
      "17\n",
      "18\n",
      "19\n",
      "20\n",
      "21\n",
      "22\n",
      "23\n",
      "24\n",
      "25\n",
      "26\n",
      "27\n",
      "28\n",
      "29\n"
     ]
    }
   ],
   "source": [
    "for i in np.nditer(arr1):\n",
    "    print(i)"
   ]
  },
  {
   "cell_type": "code",
   "execution_count": 59,
   "id": "07cb106e",
   "metadata": {},
   "outputs": [],
   "source": [
    "#addition\n",
    "import numpy as np\n",
    "\n",
    "new_arr_1 = np.arange(6).reshape(3,2)\n",
    "new_arr_2 = np.arange(6).reshape(2,3)"
   ]
  },
  {
   "cell_type": "code",
   "execution_count": 49,
   "id": "da858388",
   "metadata": {},
   "outputs": [
    {
     "data": {
      "text/plain": [
       "array([False, False, False,  True,  True])"
      ]
     },
     "execution_count": 49,
     "metadata": {},
     "output_type": "execute_result"
    }
   ],
   "source": [
    "new_arr_1>3"
   ]
  },
  {
   "cell_type": "code",
   "execution_count": 61,
   "id": "94cf676c",
   "metadata": {},
   "outputs": [],
   "source": [
    "new_arr_3 = new_arr_1.dot(new_arr_2)"
   ]
  },
  {
   "cell_type": "code",
   "execution_count": 62,
   "id": "90306578",
   "metadata": {},
   "outputs": [
    {
     "data": {
      "text/plain": [
       "array([[ 3,  4,  5],\n",
       "       [ 9, 14, 19],\n",
       "       [15, 24, 33]])"
      ]
     },
     "execution_count": 62,
     "metadata": {},
     "output_type": "execute_result"
    }
   ],
   "source": [
    "new_arr_3"
   ]
  },
  {
   "cell_type": "code",
   "execution_count": 69,
   "id": "6eb2de65",
   "metadata": {},
   "outputs": [
    {
     "name": "stdout",
     "output_type": "stream",
     "text": [
      "[[ 3  4  5]\n",
      " [ 9 14 19]\n",
      " [15 24 33]]\n"
     ]
    }
   ],
   "source": [
    "print(new_arr_3)"
   ]
  },
  {
   "cell_type": "code",
   "execution_count": 72,
   "id": "140aabe6",
   "metadata": {},
   "outputs": [
    {
     "name": "stdout",
     "output_type": "stream",
     "text": [
      "[0 1 2 3 4 5]\n"
     ]
    }
   ],
   "source": [
    "new_arr_6=new_arr_2.ravel()\n",
    "print(new_arr_6)#higher dimension sai lower dimention tak transform kardai gai"
   ]
  },
  {
   "cell_type": "code",
   "execution_count": 75,
   "id": "25debbea",
   "metadata": {},
   "outputs": [
    {
     "name": "stdout",
     "output_type": "stream",
     "text": [
      "[[ 3  9 15]\n",
      " [ 4 14 24]\n",
      " [ 5 19 33]]\n"
     ]
    }
   ],
   "source": [
    "print(new_arr_3.transpose())"
   ]
  },
  {
   "cell_type": "code",
   "execution_count": 76,
   "id": "5d25e40d",
   "metadata": {},
   "outputs": [],
   "source": [
    "new_arr_7=np.arange(12).reshape(6,2)"
   ]
  },
  {
   "cell_type": "code",
   "execution_count": 91,
   "id": "47896512",
   "metadata": {},
   "outputs": [],
   "source": [
    "new_arr_8=np.arange(12).reshape(6,2)"
   ]
  },
  {
   "cell_type": "code",
   "execution_count": 92,
   "id": "565c52c6",
   "metadata": {},
   "outputs": [
    {
     "data": {
      "text/plain": [
       "array([[ 0,  1,  0,  1],\n",
       "       [ 2,  3,  2,  3],\n",
       "       [ 4,  5,  4,  5],\n",
       "       [ 6,  7,  6,  7],\n",
       "       [ 8,  9,  8,  9],\n",
       "       [10, 11, 10, 11]])"
      ]
     },
     "execution_count": 92,
     "metadata": {},
     "output_type": "execute_result"
    }
   ],
   "source": [
    "np.hstack((new_arr_7,new_arr_8))"
   ]
  },
  {
   "cell_type": "code",
   "execution_count": 86,
   "id": "545eece8",
   "metadata": {},
   "outputs": [
    {
     "data": {
      "text/plain": [
       "array([[ 0,  1],\n",
       "       [ 2,  3],\n",
       "       [ 4,  5],\n",
       "       [ 6,  7],\n",
       "       [ 8,  9],\n",
       "       [10, 11],\n",
       "       [ 0,  1],\n",
       "       [ 2,  3],\n",
       "       [ 4,  5],\n",
       "       [ 6,  7],\n",
       "       [ 8,  9],\n",
       "       [10, 11]])"
      ]
     },
     "execution_count": 86,
     "metadata": {},
     "output_type": "execute_result"
    }
   ],
   "source": [
    "np.vstack((new_arr_7,new_arr_8))#data different sheet mai ho tab hum use kare gai"
   ]
  },
  {
   "cell_type": "code",
   "execution_count": 93,
   "id": "33653fe0",
   "metadata": {},
   "outputs": [
    {
     "data": {
      "text/plain": [
       "[array([[ 0],\n",
       "        [ 2],\n",
       "        [ 4],\n",
       "        [ 6],\n",
       "        [ 8],\n",
       "        [10]]),\n",
       " array([[ 1],\n",
       "        [ 3],\n",
       "        [ 5],\n",
       "        [ 7],\n",
       "        [ 9],\n",
       "        [11]])]"
      ]
     },
     "execution_count": 93,
     "metadata": {},
     "output_type": "execute_result"
    }
   ],
   "source": [
    "np.hsplit(new_arr_7,2)"
   ]
  },
  {
   "cell_type": "code",
   "execution_count": 94,
   "id": "6bf7c3ef",
   "metadata": {},
   "outputs": [
    {
     "data": {
      "text/plain": [
       "[array([[0, 1],\n",
       "        [2, 3],\n",
       "        [4, 5]]),\n",
       " array([[ 6,  7],\n",
       "        [ 8,  9],\n",
       "        [10, 11]])]"
      ]
     },
     "execution_count": 94,
     "metadata": {},
     "output_type": "execute_result"
    }
   ],
   "source": [
    "np.vsplit(new_arr_7,2)"
   ]
  },
  {
   "cell_type": "code",
   "execution_count": null,
   "id": "6881cb38",
   "metadata": {},
   "outputs": [],
   "source": []
  }
 ],
 "metadata": {
  "kernelspec": {
   "display_name": "Python 3 (ipykernel)",
   "language": "python",
   "name": "python3"
  },
  "language_info": {
   "codemirror_mode": {
    "name": "ipython",
    "version": 3
   },
   "file_extension": ".py",
   "mimetype": "text/x-python",
   "name": "python",
   "nbconvert_exporter": "python",
   "pygments_lexer": "ipython3",
   "version": "3.10.9"
  }
 },
 "nbformat": 4,
 "nbformat_minor": 5
}
